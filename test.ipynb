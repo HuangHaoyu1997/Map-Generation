{
 "cells": [
  {
   "cell_type": "code",
   "execution_count": 6,
   "source": [
    "# Moonsoon - a fantasy map generator powered by numpy\r\n",
    "# modified by HHY 2021.9.2 16:21:36\r\n",
    "\r\n",
    "import os\r\n",
    "os.environ[\"OMP_NUM_THREADS\"]='6'\r\n",
    "import noise\r\n",
    "import numpy as np\r\n",
    "import matplotlib\r\n",
    "import matplotlib.pyplot as plt\r\n",
    "from matplotlib.colors import LinearSegmentedColormap\r\n",
    "from matplotlib.colors import to_rgba\r\n",
    "from scipy.signal import convolve2d\r\n",
    "from math import exp\r\n",
    "from tqdm import tqdm\r\n",
    "import matplotlib.animation as animation\r\n",
    "import heapq\r\n",
    "from mpl_toolkits.mplot3d import Axes3D\r\n",
    "from IPython.display import Image\r\n",
    "from scipy.spatial import Voronoi, voronoi_plot_2d\r\n",
    "import skimage.transform\r\n",
    "from numba import jit,njit\r\n",
    "from numba.typed import Dict as numba_dict\r\n",
    "\r\n",
    "# help(noise)\r\n",
    "# http://libnoise.sourceforge.net/glossary/\r\n",
    "\r\n",
    "def sample2D(a,i,j):\r\n",
    "    \r\n",
    "    # 将坐标i,j裁剪到符合地图尺寸\r\n",
    "    i, j = np.clip(i,0,a.shape[0]-1), np.clip(j,0,a.shape[1]-1)\r\n",
    "    # floor向下取整, ceil向上取整\r\n",
    "    i0, i1, j0, j1 = int(np.floor(i)), int(np.ceil(i)), int(np.floor(j)), int(np.ceil(j)) \r\n",
    "    \r\n",
    "    tmp = a[i0,j0]*(i1-i)*(j1-j) \\\r\n",
    "        +a[i1,j0]*(i-i0)*(j1-j) \\\r\n",
    "        +a[i0,j1]*(i1-i)*(j-j0) \\\r\n",
    "        +a[i1,j1]*(i-i0)*(j-j0)\r\n",
    "    return tmp\r\n",
    "\r\n",
    "def clip(value, lower, upper):\r\n",
    "    return lower if value < lower else upper if value > upper else value\r\n",
    "\r\n",
    "#seeds and parameters\r\n",
    "seed = 77\r\n",
    "townseed = 7\r\n",
    "histseed = 77\r\n",
    "size = 400\r\n",
    "zoom = 30\r\n",
    "zoom2 = 4\r\n",
    "travel_zoom = 0.7\r\n",
    "villagedense = 50\r\n",
    "towndense = 20\r\n",
    "castledense = 9\r\n",
    "x0,y0 = 2,0\r\n",
    "temperature_pos,temperature_zoom = 2.7,2\r\n",
    "distortion = 2\r\n",
    "distortion2 = 0.5\r\n",
    "\r\n",
    "# 第一步，使用柏林噪声生成大陆主体\r\n",
    "gammas = np.zeros((size,size))\r\n",
    "xcoord,ycoord=np.mgrid[0:size,0:size]/zoom\r\n",
    "xcoord += x0\r\n",
    "ycoord += y0\r\n",
    "for i in range(size):\r\n",
    "    for j in range(size):\r\n",
    "        x,y = i/zoom+x0, j/zoom+y0\r\n",
    "        dx = distortion2 * noise.pnoise2(x/zoom2,y/zoom2,octaves=2,persistence=0.5,lacunarity=2.0,base=seed+15)\r\n",
    "        dy = distortion2 * noise.pnoise2(x/zoom2,y/zoom2,octaves=2,persistence=0.5,lacunarity=2.0,base=seed+23)\r\n",
    "        r = np.sqrt((x-0.5*size/zoom)**2 + 0.5*(y-0.5*size/zoom)**2)/zoom2 # do not distort here\r\n",
    "        gamma = noise.pnoise2(x/zoom2+dx, y/zoom2+dy, octaves=2, persistence=0.7, lacunarity=2, base=seed+66)*2\r\n",
    "        gamma = np.tanh((1-r)*5)+gamma*2-0.1\r\n",
    "        gammas[i,j] = np.tanh(gamma)\r\n",
    "\r\n",
    "'''\r\n",
    "plt.figure(figsize=(8,8))\r\n",
    "plt.imshow(gammas,cmap='viridis')\r\n",
    "plt.colorbar()\r\n",
    "# plt.imshow(np.ma.masked_where(gammas>0,np.ones(gammas.shape)),cmap='summer')\r\n",
    "plt.contour(gammas,[0],colors='black')\r\n",
    "plt.show()\r\n",
    "'''\r\n",
    "\r\n"
   ],
   "outputs": [
    {
     "output_type": "execute_result",
     "data": {
      "text/plain": [
       "\"\\nplt.figure(figsize=(8,8))\\nplt.imshow(gammas,cmap='viridis')\\nplt.colorbar()\\n# plt.imshow(np.ma.masked_where(gammas>0,np.ones(gammas.shape)),cmap='summer')\\nplt.contour(gammas,[0],colors='black')\\nplt.show()\\n\""
      ]
     },
     "metadata": {},
     "execution_count": 6
    }
   ],
   "metadata": {}
  },
  {
   "cell_type": "code",
   "execution_count": 15,
   "source": [
    "# 生成海拔信息，get elevation\r\n",
    "elevation = np.zeros((size,size))\r\n",
    "for i in range(size):\r\n",
    "    for j in range(size):\r\n",
    "        x,y = i/zoom+x0,j/zoom+y0\r\n",
    "        dx = distortion * noise.pnoise2(x,y,octaves=4,persistence=0.5,lacunarity=2.0,base=seed+15)\r\n",
    "        dy = distortion * noise.pnoise2(x,y,octaves=4,persistence=0.5,lacunarity=2.0,base=seed+23)\r\n",
    "        value = noise.pnoise2(x+dx,y+dy,octaves=6,persistence=0.5,lacunarity=2.0,base=seed+0)*2\r\n",
    "        value = (value + gammas[i,j])/2\r\n",
    "        elevation[i,j] = value"
   ],
   "outputs": [],
   "metadata": {}
  },
  {
   "cell_type": "code",
   "execution_count": 16,
   "source": [
    "elevation.min()"
   ],
   "outputs": [
    {
     "output_type": "execute_result",
     "data": {
      "text/plain": [
       "0.9674370460232515"
      ]
     },
     "metadata": {},
     "execution_count": 16
    }
   ],
   "metadata": {}
  },
  {
   "cell_type": "code",
   "execution_count": null,
   "source": [],
   "outputs": [],
   "metadata": {}
  }
 ],
 "metadata": {
  "orig_nbformat": 4,
  "language_info": {
   "name": "python",
   "version": "3.8.8",
   "mimetype": "text/x-python",
   "codemirror_mode": {
    "name": "ipython",
    "version": 3
   },
   "pygments_lexer": "ipython3",
   "nbconvert_exporter": "python",
   "file_extension": ".py"
  },
  "kernelspec": {
   "name": "python3",
   "display_name": "Python 3.8.8 64-bit ('base': conda)"
  },
  "interpreter": {
   "hash": "b3ba2566441a7c06988d0923437866b63cedc61552a5af99d1f4fb67d367b25f"
  }
 },
 "nbformat": 4,
 "nbformat_minor": 2
}